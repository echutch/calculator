{
  "cells": [
    {
      "cell_type": "markdown",
      "metadata": {
        "id": "lUXCpcbx8vAU"
      },
      "source": [
        "#  Exoplanets"
      ]
    },
    {
      "cell_type": "markdown",
      "metadata": {
        "id": "PvM4fFCv8vAX"
      },
      "source": [
        "* **Author:**\n",
        "\n",
        "* **Date:**\n",
        "\n",
        "* **Time spent on this assignment:**"
      ]
    },
    {
      "cell_type": "code",
      "execution_count": 3,
      "metadata": {
        "code_folding": [
          3
        ],
        "colab": {
          "base_uri": "https://localhost:8080/"
        },
        "id": "dI2ZUpcq8vAY",
        "outputId": "8be5de65-bbfa-48e2-b3f8-7bb6504c67e6",
        "tags": [
          "hide-output"
        ]
      },
      "outputs": [
        {
          "output_type": "stream",
          "name": "stdout",
          "text": [
            "--2025-02-13 22:46:33--  https://clark.physics.illinois.edu/exo_helper.py\n",
            "Resolving clark.physics.illinois.edu (clark.physics.illinois.edu)... 18.220.149.166\n",
            "Connecting to clark.physics.illinois.edu (clark.physics.illinois.edu)|18.220.149.166|:443... connected.\n",
            "HTTP request sent, awaiting response... 200 OK\n",
            "Length: 1729 (1.7K)\n",
            "Saving to: ‘exo_helper.py.1’\n",
            "\n",
            "exo_helper.py.1     100%[===================>]   1.69K  --.-KB/s    in 0s      \n",
            "\n",
            "2025-02-13 22:46:33 (472 MB/s) - ‘exo_helper.py.1’ saved [1729/1729]\n",
            "\n"
          ]
        }
      ],
      "source": [
        "!wget https://clark.physics.illinois.edu/exo_helper.py\n",
        "\n",
        "import numpy as np\n",
        "import matplotlib.pyplot as plt\n",
        "import math\n",
        "#from exo_helper import get_planet_vxvy_barycentric\n",
        "def get_planet_vxvy_barycentric(mass,t):\n",
        "    # take the average of the aphelion and perihelion as the distance\n",
        "    # between the sun and Jupiter.\n",
        "    orbit_radius_jupiter = 778.295e9\n",
        "\n",
        "    # take the average of the aphelion and perihelion as the distance\n",
        "    # between the sun and Venus. https://en.wikipedia.org/wiki/Venus\n",
        "    orbit_radius_venus = 108.208e9\n",
        "\n",
        "    # orbital period for Jupiter, from Wikipedia, is 4332.59 days.\n",
        "    # orbital period for Venus, from Wikipedia, is 224.701 days.\n",
        "    orbit_period_jupiter = 4332.59 * 24 * 3600\n",
        "    orbit_period_venus = 224.701 * 24 * 3600\n",
        "    orbit_period = np.array([0.001, orbit_period_jupiter, orbit_period_venus])\n",
        "    # create arrays for the vx, vy positions\n",
        "    theta_now = np.array([-np.pi, 0., 0.]) + t*2*np.pi / orbit_period\n",
        "    # array of orbital speeds for motion in a heliocentric system:\n",
        "    orbit_speed_jupiter = 2 * np.pi * orbit_radius_jupiter / orbit_period_jupiter\n",
        "    orbit_speed_venus = 2 * np.pi * orbit_radius_venus / orbit_period_venus\n",
        "\n",
        "    orbit_speed = np.array([0.,orbit_speed_jupiter,orbit_speed_venus])\n",
        "\n",
        "    # now get the velocity components. i am assuming that orbits are circles.\n",
        "    vxarray, vyarray = -orbit_speed * np.sin(theta_now), orbit_speed * np.cos(theta_now)\n",
        "\n",
        "    # now calculate center of mass velocities, then subtract that from all\n",
        "    # the objects\n",
        "    vx_cm = np.dot(mass, vxarray) / np.sum(mass)\n",
        "    vy_cm = np.dot(mass, vyarray) / np.sum(mass)\n",
        "\n",
        "    # now get the velocity components. i am assuming that orbits are circles.\n",
        "    vxarray = vxarray - vx_cm\n",
        "    vyarray = vyarray - vy_cm\n",
        "\n",
        "    return np.array([vxarray, vyarray])\n",
        "def resetMe(keepList=[]):\n",
        "    ll=%who_ls\n",
        "    keepList=keepList+['resetMe','np','plt','math','get_planet_vxvy_barycentric']\n",
        "    for iiii in keepList:\n",
        "        if iiii in ll:\n",
        "            ll.remove(iiii)\n",
        "    for iiii in ll:\n",
        "        jjjj=\"^\"+iiii+\"$\"\n",
        "        %reset_selective -f {jjjj}\n",
        "    ll=%who_ls\n",
        "    return"
      ]
    },
    {
      "cell_type": "code",
      "execution_count": 4,
      "metadata": {
        "id": "ZVC0fX6n8vAZ"
      },
      "outputs": [],
      "source": [
        "SolarSystemParameters=dict()\n",
        "SolarSystemParameters[\"EarthOrbitRadius\"]      = 149.6e9 # meters\n",
        "SolarSystemParameters[\"EarthMass\"]       = 5.972e24 # kg\n",
        "SolarSystemParameters[\"MoonOrbitRadius\"] = 363228.9e3\n",
        "SolarSystemParameters[\"MoonMass\"]        = 7.34e22 # kg\n",
        "\n",
        "SolarSystemParameters[\"JupiterMass\"] = 1898600.00e21 #kg\n",
        "SolarSystemParameters[\"VenusMass\"]   = 4868.5e21     #kg\n",
        "\n",
        "SolarSystemParameters[\"SunRadius\"] = 695.51e3 #meters\n",
        "SolarSystemParameters[\"SunMass\"]   = 1.989e30 # kg\n",
        "SolarSystemParameters[\"G\"]         = 6.67408e-11"
      ]
    },
    {
      "cell_type": "markdown",
      "metadata": {
        "id": "_milhMAM8vAZ"
      },
      "source": [
        "## Exercise 1: Signal Processing and Fourier Transforms"
      ]
    },
    {
      "cell_type": "markdown",
      "metadata": {
        "id": "yR3-XGM18vAZ"
      },
      "source": [
        "* **List of collaborators:**\n",
        "\n",
        "* **References you used in developing your code:**"
      ]
    },
    {
      "cell_type": "markdown",
      "metadata": {
        "id": "Rqf6DrEX8vAZ"
      },
      "source": [
        "### 0. Background"
      ]
    },
    {
      "cell_type": "markdown",
      "metadata": {
        "id": "D4Eld-7k8vAZ"
      },
      "source": [
        "**A brief history of exoplanet searches**\n",
        "\n",
        "Since the first confirmed detection in 1992 by Wolszczan & Frail [<sup>1</sup>](#fn1) of a planet orbiting a distant star, the discovery of thousands of other exoplanets has become one of the greatest achievements of modern astronomy. (The detection of gravitational waves is another!)\n",
        "\n",
        "Thanks to advances in instrumentation and methods of data analysis, over 3,000 exoplanets have been identified to date in more than 2,000 star systems[<sup>2</sup>](#fn2).  The features of these planetary systems—the eccentricity and inclination of planetary orbits, as well as the number of planets in a system—have varied more from system to system than had been expected.\n",
        "\n",
        "The quest for exoplanetary systems is driven in part by curiosity about our own solar system. In the 17th century Sir Isaac Newton realized that the solar system is more organized than is required by the laws of motion[<sup>3</sup>](#fn3).  But for centuries we did not know how similar other planetary systems might be to our own, or even if it was common for other stars to have planets. Is the organization of our solar system unique? Is the Earth unusual in size, and in orbiting the sun in a habitable zone? How were the solar system and the other exoplanet systems formed? With a broad survey of exoplanets we can begin addressing some of these questions.\n",
        "\n",
        "The solar system comprises eight planets (nine if you cannot live without Pluto!), moving in nearly circular orbits around the sun with an average eccentricity of 0.06. Their orbital planes are nearly parallel to a plane that is perpendicular to the sun’s rotation axis. Most of the solar system’s angular momentum resides in the planets, with the sun’s rotational angular momentum contributing only about ~0.5% of the total. Inspired by these facts, the French scholar Pierre- Simon Laplace (1749 – 1827) devoted much of his life to constructing a theory of the motions of the planets, arguing that the stability of the solar system would not require “periodic divine intervention.” [<sup>4</sup>](#fn4)\n",
        "\n",
        "In 1995 Mayor & Queloz[<sup>5</sup>](#fn5) discovered the first exoplanet orbiting a sun-like star (a star with mass close to $M_\\odot$, the solar mass). It is 51 Pegasi, 15.6 parsecs (50.9 light years) from us in the constellation Pegasus. Its planetary companion is 51 Pegasi b, now called “Dimidium,” a gas giant that is about half as massive as Jupiter. It was detected indirectly, through observation of a periodic variation in the Doppler shift of light from 51 Pegasi as the star and its planet orbited the two-body center of mass. This is one of the most effective techniques in the hunt for new planets.\n",
        "\n",
        "The following figure shows the number of planets discovered each year between 1995 and January 2017.[<sup>6</sup>](#fn6)"
      ]
    },
    {
      "cell_type": "markdown",
      "metadata": {
        "id": "umGdXXsj8vAZ"
      },
      "source": [
        "<div><img src=\"https://clark.physics.illinois.edu/246img/exoplanets1.png\" width=800 alt=\"confirmedExoplanets\"></img><br></div>"
      ]
    },
    {
      "cell_type": "markdown",
      "metadata": {
        "id": "RjyE32X78vAa"
      },
      "source": [
        "**Detection techniques**\n",
        "\n",
        "Here are some of the techniques used in searches for exoplanets.\n",
        "\n",
        "1. Doppler spectroscopy (gives planet mass). Searchers use the Doppler effect to measure the star's velocity variation as the star and planet orbit their center of mass. The period of the spectral variation yields the planet’s mass from Kepler's 3rd law. Depending on the mass of the star, Earth-sized exoplanets can be detected out to 50 to 1,000 parsecs (1 parsec = $1.0857 \\times 10^{16}$ m, about 3.26 lightyears), while Jupiter-sized planets can be found out to 1,000 parsecs.[<sup>7</sup>](#fn7) [<sup>8</sup>](#fn8)\n",
        "\n",
        "\n",
        "2. Transient photometry (gives planet radius). When a planet crosses in front of its host star it will block a small amount of light that would otherwise reach the earth, causing a sometimes-detectable reduction in the star’s apparent brightness. The fractional change in brightness should be proportional to the ratio of the cross sectional areas of the planet and star. If we are able to estimate the size of the star, we can determine the planet’s radius.[<sup>9</sup>](#fn9)  A disadvantage of this technique is that it requires the earth-bound observer to reside close to the plane that contains the exoplanet’s orbit. This is not the case for most exoplanet systems! For example, the probability that a randomly placed distant observer could detect the earth’s transit across the disk of the sun would be somewhat less than a half percent.\n",
        "\n",
        "\n",
        "3. Pulsar timing variations (give planet mass). A pulsar is a rapidly spinning neutron star or white dwarf whose strong magnetic fields ($\\sim 10^{10}$ T) are not aligned with the object’s rotation axis. The rapid rotation of the star induces (changing) electric fields that generate a high-energy beam of protons and electrons. Astronomers can detect the radiofrequency signatures of the beam as it sweeps across earth’s line-of-sight to the pulsar. Because pulsar rotation rates are very regular—some are more precise than atomic clocks—the detected frequency on earth is very sensitive to anomalies, such as a Doppler shift caused by the influence of a companion planet.\n",
        "\n",
        "4. Direct imaging. Direct imaging of an exoplanet is difficult, but not impossible. In most cases the host star will outshine the intrinsic thermal radiation from the planet, but when the planet is big enough, far enough from its parent star, or hot enough to emit stronger radiation, it can actually be seen in images. For direct imaging, astronomers use “coronagraphs,” designed to block most light from the host star imaged by a camera, leaving the planet visible. An example is the HR 8799 system in the constellation Pegasus. Three of its planets, each with a mass several times grater than Jupiter’s, were first seen in 2008. A fourth was observed in 2009.[<sup>10</sup>](#fn10) It is also possible that “orphan” planets, which are not bound to a stars, might be detected by direct imaging.\n",
        "\n",
        "For more information about exoplanet detection see the various Wikipedia pages and review papers on the subject.[<sup>11</sup>](#fn11)"
      ]
    },
    {
      "cell_type": "markdown",
      "metadata": {
        "id": "dQQ4l4QD8vAa"
      },
      "source": [
        "**Stellar spectra and Doppler shifts**\n",
        "\n",
        "When we look at a star, where are the “received” photons actually coming from? Think of a star as a sphere of plasma, comprising a huge number of moving ions and free electrons. In the interior of the star where the photons are produced, the density of charged particles is so high (about $10^{26}$ particles per $cm^3$ in the sun[<sup>12</sup>](#fn12)\n",
        ") and the environment so hot that propagating photons scatter frequently, typically within a centimeter. The photons that escape from a star without further scattering tend to come from a thin shell called the photosphere at the star’s surface.\n",
        "\n",
        "The observed features in stellar spectra—the profile of brightness as a function of wavelength, along with emission and absorption lines, arise from the physical processes taking place in the star’s photosphere (and deeper regions), as well as the atmospheres of the star and the earth. Much of the received light is blackbody radiation, the stellar equivalent of the glow from the hot coils of a toaster. But elements near the surface of the sun also emit and absorb light at frequencies corresponding to quantum transitions between energy levels, yielding bright and dark spectral lines. Absorption in the star’s atmosphere, as well as the earth’s (for ground-based observations), further shapes spectral observations. The following figure shows the hydrogen emission spectrum; the figure after that shows the solar spectrum arriving at the surface of the earth.[<sup>13</sup>](#fn13)"
      ]
    },
    {
      "cell_type": "markdown",
      "metadata": {
        "id": "Ziei_dog8vAa"
      },
      "source": [
        "<div><img src=\"https://clark.physics.illinois.edu/246img/exoplanets2.png\" width=800 alt=\"confirmedExoplanets\"></img><br></div>"
      ]
    },
    {
      "cell_type": "markdown",
      "metadata": {
        "id": "82S6ajg78vAa"
      },
      "source": [
        "<div><img src=\"https://clark.physics.illinois.edu/246img/exoplanets3.png\" width=600 alt=\"confirmedExoplanets\"></img><br></div>"
      ]
    },
    {
      "cell_type": "markdown",
      "metadata": {
        "id": "nSpXheJV8vAa"
      },
      "source": [
        "If a star is moving towards or away from the observer, the wavelengths of observed spectral features will be Doppler shifted, allowing a determination of $v_\\textrm{rad}$ , the radial (towards/away) component of the star’s velocity. The exact expression is\n",
        "\n",
        "$$ \\lambda_\\textrm{observed} = \\lambda_\\textrm{source} \\sqrt{\\frac{c+v_\\textrm{rad} }{ c-v_\\textrm{rm}}}\\approx \\lambda_\\textrm{source} \\left( 1+ \\frac{v_\\textrm{rad}}{c}\\right)$$\n",
        "\n",
        "$$$$\n",
        "\n",
        "so that\n",
        "\n",
        "$$ \\frac{\\lambda_\\textrm{observed}-\\lambda_\\textrm{source} }{ \\lambda_\\textrm{source}} = \\frac{v_\\textrm{rad}}{c} $$"
      ]
    },
    {
      "cell_type": "markdown",
      "metadata": {
        "id": "rgBVs-5c8vAa"
      },
      "source": [
        "Positive $v_\\textrm{rad}$ corresponds to motion away from the observer, which causes a “red-shift” to longer wavelengths. For example, a hydrogen line with wavelength 656.2724827 nm will shift by 0.01 nm for a radial velocity of $v_\\textrm{rad} = 4.568 km/s$.[<sup>14</sup>](#fn14) (The Doppler shift for motion perpendicular to the observer’s line of sight is proportional to $v^2/c^2$, and is usually unobservable.)\n",
        "\n",
        "The plot below is a schematic representation of the spectral shift in response to radial motion."
      ]
    },
    {
      "cell_type": "markdown",
      "metadata": {
        "id": "8odhIYVy8vAa"
      },
      "source": [
        "<div><img src=\"https://clark.physics.illinois.edu/246img/exoplanets4.png\" width=400 alt=\"NormalizedPower\"></img><br></div>"
      ]
    },
    {
      "cell_type": "markdown",
      "metadata": {
        "id": "r82oXeUF8vAa"
      },
      "source": [
        "The star and planets in an exoplanetary system orbit the system’s barycenter (center of mass). As a result, the star’s radial velocity with respect to the earth will change with time, causing a time-dependent Doppler shift.\n",
        "\n",
        "The following figure shows the position of the solar system’s barycenter relative to the center of the sun over the course of a century. The motion is complex since the offset of the barycenter is determined primarily by the trajectories of several massive planets with different orbital periods. Even so, a distant observer will be able to pick out contributions to the sun’s Doppler shift with period 11.86 years (from Jupiter) and another with period 29.46 years (from Saturn)."
      ]
    },
    {
      "cell_type": "markdown",
      "metadata": {
        "id": "tD9q1Dfd8vAa"
      },
      "source": [
        "<div><img src=\"https://clark.physics.illinois.edu/246img/exoplanets5.png\" width=400 alt=\"confirmedExoplanets\"></img><br></div>"
      ]
    },
    {
      "cell_type": "markdown",
      "metadata": {
        "id": "-uh3-HPG8vAa"
      },
      "source": [
        "Exoplanet hunters look for time-varying Doppler shifts in stellar spectra. More colorfully [<sup>15</sup>](#fn15):"
      ]
    },
    {
      "cell_type": "markdown",
      "metadata": {
        "id": "-od99Suk8vAa"
      },
      "source": [
        "<div><img src=\"https://clark.physics.illinois.edu/246img/exoplanets6.png\" width=400 alt=\"exoplanetsComic\"></img><br></div>"
      ]
    },
    {
      "cell_type": "markdown",
      "metadata": {
        "id": "T__DTqor8vAa"
      },
      "source": [
        "### a. Variation in the host star's radial velocity"
      ]
    },
    {
      "cell_type": "markdown",
      "metadata": {
        "id": "MGhkfMdH8vAa"
      },
      "source": [
        "Arkushanangarushashutu[<sup>16</sup>](#fn16) (more commonly known as Asellus Australis, or $\\delta$ Cancri) is an orange giant in the constellation Cancer that lies close to the ecliptic, the plane defined by the earth’s orbit. An alien planet hunter in the Arkushanangarushashutu system would see our solar system almost edge-on, perhaps even observing the transit of planets across the disk of the sun.\n",
        "\n",
        "Here is a simplified diagram of the geometry, showing the sun and one planet. If we omit the remaining planets, the sun and the planet will move in circular orbits around their center of mass so that the Doppler shift seen at $\\delta$ Cancri will vary sinusoidally with time."
      ]
    },
    {
      "cell_type": "markdown",
      "metadata": {
        "id": "LfKuBhox8vAa"
      },
      "source": [
        "<div><img src=\"https://clark.physics.illinois.edu/246img/exoplanets7.png\" width=800 alt=\"confirmedExoplanets\"></img><br></div>"
      ]
    },
    {
      "cell_type": "markdown",
      "metadata": {
        "id": "UNulE_Q48vAa"
      },
      "source": [
        "<div><img src=\"https://clark.physics.illinois.edu/246img/exoplanets8.png\" width=800 alt=\"confirmedExoplanets\"></img><br></div>"
      ]
    },
    {
      "cell_type": "markdown",
      "metadata": {
        "id": "BmXo40VX8vAa"
      },
      "source": [
        "From the observer's perspective, the measured velocity variation is a projected quantity, since the Doppler shift is only sensitive to the component of velocity along the radial (line-of- sight) direction. The radial velocity is the inner product of the two vectors: (1) the unit vector along the observer’s line-of-sight and (2) the star’s velocity vector."
      ]
    },
    {
      "cell_type": "markdown",
      "metadata": {
        "id": "iygxFsih8vAa"
      },
      "source": [
        "**A lightning-fast tour of our special function**  \n",
        "To get our hands a little dirty and simulate the observed solar system radial velocities, we've gone and figured out the math and implemented it in a handy function!\n",
        "`get_planet_vxvy_barycentric(mass,t)` returns the planets' x, y velocities in a barycentric (CM) coordinate system. Given the default masses below, the first item is the sun, the second Jupiter. If there's a third mass (\"Venus\" let's say), that'll be the third entry.\n",
        "\n",
        "```python\n",
        "# define the masses, in kg. The first is the sun, the second Jupiter,\n",
        "# the third Venus.  \n",
        "mass = np.array([SolarSystemParameters[\"SunMass\"],SolarSystemParameters[\"JupiterMass\"],0.0])\n",
        "# get vx, vy for the sun + jupiter + venus.\n",
        "vx, vy = get_planet_vxvy_barycentric(mass,t)\n",
        "```\n",
        "\n",
        "This will return the velocities for the three planets in the x and y direction at time t."
      ]
    },
    {
      "cell_type": "markdown",
      "metadata": {
        "id": "H5MKTued8vAa"
      },
      "source": [
        "🦉Please do the following. Generate a plot of the sun’s $x$ component of velocity over a 25 year period, at 15 day intervals for just one planet (Jupiter). Please use 365.25 days as the length of one year.\n",
        "\n",
        "How much variation in wavelength would this induce in a 500 nm spectral line?\n",
        "\n",
        "Here is what I got:"
      ]
    },
    {
      "cell_type": "markdown",
      "metadata": {
        "id": "8nMMZyVr8vAa"
      },
      "source": [
        "<div><img src=\"https://clark.physics.illinois.edu/246img/exoplanets9.png\" width=400 alt=\"confirmedExoplanets\"></img><br></div>"
      ]
    },
    {
      "cell_type": "markdown",
      "metadata": {
        "id": "EBFgA_QU8vAb"
      },
      "source": [
        "If we were to include a second planet, for example, one moving in Venus’ orbit, but with ten times as much mass, we’ll see wiggles at the Venusian orbital period superimposed on the larger Jovian-induced variation. Please set the Venusian mass to ten times its actual value of 4868.5e21, rather than zero.  \n",
        "🦉Generate another plot of the sun’s velocity. It should look like this:"
      ]
    },
    {
      "cell_type": "markdown",
      "metadata": {
        "id": "bFcGEhSN8vAb"
      },
      "source": [
        "<div><img src=\"https://clark.physics.illinois.edu/246img/exoplanets10.png\" width=400 alt=\"confirmedExoplanets\"></img><br></div>"
      ]
    },
    {
      "cell_type": "markdown",
      "metadata": {
        "id": "5kGsNmbw8vAb"
      },
      "source": [
        "You should define the masses, in kg. The first is the sun, the second Jupiter, the third Venus. See https://en.wikipedia.org/wiki/List_of_Solar_System_objects_by_size\n",
        "\n",
        "<div><img src=\"https://clark.physics.illinois.edu/246img/AnsStart.svg\" width=200 align=left alt=\"Answer (start)\"></img><br></div>"
      ]
    },
    {
      "cell_type": "code",
      "execution_count": 61,
      "metadata": {
        "colab": {
          "base_uri": "https://localhost:8080/",
          "height": 853
        },
        "id": "h5v-pe1i8vAb",
        "outputId": "e49e0c81-e4d7-43e1-fe42-7be7e3b0aee0"
      },
      "outputs": [
        {
          "output_type": "display_data",
          "data": {
            "text/plain": [
              "<Figure size 640x480 with 1 Axes>"
            ],
            "image/png": "[encoded data removed]"
          },
          "metadata": {}
        },
        {
          "output_type": "display_data",
          "data": {
            "text/plain": [
              "<Figure size 640x480 with 1 Axes>"
            ],
            "image/png": "[encoded data removed]"
          },
          "metadata": {}
        }
      ],
      "source": [
        "### ANSWER HERE\n",
        "mass = np.array([SolarSystemParameters[\"SunMass\"],SolarSystemParameters[\"JupiterMass\"],0.0])\n",
        "\n",
        "vs = []\n",
        "ts = []\n",
        "\n",
        "for t in np.arange(0, 24*3600*25*365.25, 15*24*3600):\n",
        "  vx, vy = get_planet_vxvy_barycentric(mass,t)\n",
        "  vs.append(vx[0])\n",
        "  ts.append(t/(24*3600*365.25))\n",
        "\n",
        "\n",
        "plt.plot(ts, vs)\n",
        "plt.ylim(-15,15)\n",
        "plt.xlim(0,25)\n",
        "plt.show()\n",
        "\n",
        "mass = np.array([SolarSystemParameters[\"SunMass\"],SolarSystemParameters[\"JupiterMass\"], SolarSystemParameters[\"VenusMass\"]*10])\n",
        "\n",
        "vs = []\n",
        "ts = []\n",
        "v_amp = []\n",
        "\n",
        "for t in np.arange(0, 24*3600*25*365.25, 15*24*3600):\n",
        "  vx, vy = get_planet_vxvy_barycentric(mass,t)\n",
        "  vs.append(vx[0])\n",
        "  ts.append(t/(24*3600*365.25))\n",
        "  v_amp.append(np.sqrt(vx[0]**2 + vy[0]**2))\n",
        "\n",
        "\n",
        "plt.plot(ts, vs)\n",
        "plt.ylim(-15,15)\n",
        "plt.xlim(0,25)\n",
        "plt.show()\n",
        "\n",
        "\n"
      ]
    },
    {
      "cell_type": "markdown",
      "metadata": {
        "id": "MdbRigwh8vAb"
      },
      "source": [
        "<div><img src=\"https://clark.physics.illinois.edu/246img/AnsEnd.svg\" width=200 align=left alt=\"Answer (end)\"></img><br></div>"
      ]
    },
    {
      "cell_type": "markdown",
      "metadata": {
        "id": "0tudW6A28vAb"
      },
      "source": [
        "Note that this tuning of planet masses will not appreciably change the planet's orbital period, since that is determined primarily by the mass of the host star."
      ]
    },
    {
      "cell_type": "markdown",
      "metadata": {
        "id": "IqOVUJAn8vAb"
      },
      "source": [
        "### b. Background - Inclination and (Discrete) Fourier Transforms"
      ]
    },
    {
      "cell_type": "markdown",
      "metadata": {
        "id": "QCZx6JZW8vAb"
      },
      "source": [
        "**When the orbital plane is inclined**\n",
        "\n",
        "In the previous case, the observer is in the orbital plane of the sun-earth system, which maximizes the amplitude of the Doppler shift modulation. But the orientation of orbital planes of exoplanetary systems is going to be random, so let’s explore that now. Let's move the observer slightly above the plane, and see what the measured velocity component looks like. See the diagram below:"
      ]
    },
    {
      "cell_type": "markdown",
      "metadata": {
        "id": "EmPXWMO08vAb"
      },
      "source": [
        "<div><img src=\"https://clark.physics.illinois.edu/246img/exoplanets11.png\" width=400 alt=\"confirmedExoplanets\"></img><br></div>"
      ]
    },
    {
      "cell_type": "markdown",
      "metadata": {
        "id": "7Suh02dB8vAb"
      },
      "source": [
        "Here we define the inclination angle $i$ as illustrated in the above diagram. When $i = 90^o$ the observer is in the orbital plane of the exoplanet and the radial velocity of the star will be maximal. When $i = 0$ the radial velocity is zero. More generally, the observed radial velocity will the product of the star’s velocity and $\\sin(i)$. Note that the amplitude, but not the period of the Doppler modulation depends on $i$."
      ]
    },
    {
      "cell_type": "markdown",
      "metadata": {
        "id": "OdIgfRL88vAb"
      },
      "source": [
        "**Mass estimate for the planet**"
      ]
    },
    {
      "cell_type": "markdown",
      "metadata": {
        "id": "X9fyW4mA8vAe"
      },
      "source": [
        "Imagine that we have a binary system of one planet traveling around one star, with both bodies orbiting in circular paths around their center of mass. The periods of their orbits will be identical, of course. If the two objects are at distances astar and aplanet from their barycenter, the separation between the star and the planet will be a = $a_\\textrm{star} + a_\\textrm{planet}$. Further, the relationship between their masses and orbital radii is $M_\\textrm{star}a_\\textrm{star} = M_\\textrm{planet}a_\\textrm{planet}$.\n",
        "\n",
        "We can derive Kepler’s third law (that the square of the orbital period is proportional to the cube of the orbit’s semi-major axis) if we approximate the planet mass as negligible compared to the star’s, and the radius of the star’s orbit as negligible compared to the planet’s. Gravity provides the centripetal force that causes the planet to move in a circle with constant speed $v_\\textrm{planet}$ and orbital period $P$:\n",
        "\n",
        "$$\\frac{Gm_\\textrm{star}m_\\textrm{planet}}{\\left(a_\\textrm{planet}+a_\\textrm{start} \\right)^2} = \\frac{m_\\textrm{planet}v^2_\\textrm{planet}}{a_\\textrm{planet} }$$\n",
        "\n",
        "$$ \\frac{Gm_\\textrm{star}}{a^2_\\textrm{planet}} \\approx \\frac{v^2_\\textrm{planet} }{a_\\textrm{planet} } = \\frac{1}{a_\\textrm{planet} } \\left( \\frac{2\\pi a_\\textrm{planet}}{P} \\right)^2$$\n",
        "\n",
        "$$ Gm_\\textrm{start} \\approx \\left(\\frac{2\\pi}{P} \\right)^2 a^3_\\textrm{planet}$$\n",
        "\n",
        "That’s Kepler’s third law: the ratio of the cube of the radius and the square of the orbital period is constant.\n",
        "\n",
        "We are only able to measure two quantities: the period P and the radial velocity $v_r = v\\sin(i)$. Do some more algebra:"
      ]
    },
    {
      "cell_type": "markdown",
      "metadata": {
        "id": "dT19u_Ix8vAe"
      },
      "source": [
        "$$\n",
        "\\begin{align}\n",
        "GM_{\\text{star}} &\\approx \\left(\\frac{2\\pi a_{\\text{planet}}}{P}\\right)^2 a_{\\text{planet}}\\\\\n",
        "&= \\left(\\frac{2\\pi a_{\\text{star}}}{P}\\frac{m_{\\text{star}}}{m_{\\text{planet}}}\\right)^2 a_{\\text{star}} \\frac{m_{\\text{star}}}{m_{\\text{planet}}}\\\\\n",
        "&= \\left(v_{\\text{star}}\\frac{m_{\\text{star}}}{m_{\\text{planet}}}\\right)^2\\frac{P}{2\\pi}\\frac{2\\pi a_{\\text{star}}}{P}\\frac{m_{\\text{star}}}{m_{\\text{planet}}}\\\\\n",
        "&=\\left(v_{\\text{star}}\\frac{m_{\\text{star}}}{m_{\\text{planet}}}\\right)^2\\frac{P}{2\\pi} v_{\\text{star}}\\frac{m_{\\text{star}}}{m_{\\text{planet}}} = \\frac{P}{2\\pi}\\left(v_{\\text{star}}\\frac{m_{\\text{star}}}{m_{\\text{planet}}}\\right)^3\n",
        "\\end{align}\n",
        "$$"
      ]
    },
    {
      "cell_type": "markdown",
      "metadata": {
        "id": "r9XJ-DjT8vAe"
      },
      "source": [
        "Do some more algebra:"
      ]
    },
    {
      "cell_type": "markdown",
      "metadata": {
        "id": "X2qp61d38vAe"
      },
      "source": [
        "$$\n",
        "\\begin{align}\n",
        "G m_{\\text{star}} &\\approx \\frac{P}{2\\pi}\\left( v_{\\text{star}} \\frac{m_{\\text{star}}}{m_{\\text{planet}}}\\right)^3\\\\\n",
        "G\\frac{m^3_{\\text{planet}}}{m^2_{\\text{star}}} &= \\frac{P}{2\\pi}v^3_{\\text{star}}\\\\\n",
        "\\frac{m^3_{\\text{planet}}}{m^2_{\\text{star}}} &= \\frac{P\\left(v_{\\text{star}}\\sin i\\right)^3}{2\\pi G \\sin^3 i}\n",
        "\\end{align}\n",
        "$$\n",
        "\n",
        "$$\n",
        "\\begin{align}\n",
        "m^3_{\\text{planet}}\\sin^3 i &= m^2_{\\text{star}} \\frac{P}{2\\pi G}\\left(v_{\\text{star}}\\sin i\\right)^3\\\\\n",
        "m_{\\text{planet}}\\sin i &= \\left(\\frac{m^2_{\\text{star}} P}{2\\pi G}\\right)^{1/3} v_{\\text{star}}\\sin i\\\\\n",
        "&=\\left(\\frac{m^2_{\\text{star}} P}{2\\pi G}\\right)^{1/3} v_r\\\\\n",
        "&\\equiv m_{\\text{projected}}.\n",
        "\\end{align}\n",
        "$$"
      ]
    },
    {
      "cell_type": "markdown",
      "metadata": {
        "id": "FjBGMrSs8vAe"
      },
      "source": [
        "To summarize,\n",
        "\n",
        "$$\n",
        "\\boxed{m_\\textrm{projected} = \\left( \\frac{m^2_\\textrm{star} P }{ 2\\pi G } \\right)^{1/3} v_r }\n",
        "$$\n",
        "\n",
        "Since we measure the period and the radial velocity, we can (if we have a good estimate of the star’s mass) determine a the “projected mass,” which is a lower limit on the planet’s mass since $m_\\textrm{planet} \\sin i \\leq m_\\textrm{planet}$ . Since astronomers are generally able to make a reasonably good estimate of a star’s mass from its observable properties, we are able to evaluate the right side of the equation to solve for the planet’s projected mass."
      ]
    },
    {
      "cell_type": "markdown",
      "metadata": {
        "id": "tsdxH0XN8vAe"
      },
      "source": [
        "**Extracting the amplitude and period from our data**\n",
        "\n",
        "We would like to extract the planet’s projected mass from the radial velocity data. Recall that\n",
        "\n",
        "$$m_\\textrm{projected} = \\left( \\frac{m^2_\\textrm{star}P }{ 2\\pi G} \\right)^{1/3} v_r$$\n",
        "\n",
        "where $v_r$ is the amplitude of the radial velocity modulating the Doppler shift in the stellar spectrum. There are many techniques that we might choose to fit for the periodic signal in the radial velocity data!\n",
        "\n",
        "*Fourier transform*\n",
        "\n",
        "One of the most powerful is to generate a Fourier transform of the time series data to plot the amplitude of the radial velocity as a function of frequency, rather than as a function of time. We should see strong peaks at the frequencies of any planetary orbits.\n",
        "\n",
        "Here’s an example. Let’s take the Fourier transform of the function of time f(t) to produce its Fourier transform $\\hat{f}(\\omega)$. Imagine that $f(t)=a$ where $|t|<\\tau$ and $f(t)=0$ when $|t|>\\tau$.\n",
        "\n",
        "The definition of the Fourier transform of $f$ is this:\n",
        "\n",
        "$$\\hat{f}(\\omega) = \\frac{1}{\\sqrt{2\\pi} } \\int_{-\\infty}^\\infty f(t) e^{-i\\omega t} dt$$\n",
        "\n",
        "We expect that there will be significant contributions to the frequency distribution for frequencies with periods that are not long compared to $\\tau$. It is easy to do the integral, so let’s see if this is borne out."
      ]
    },
    {
      "cell_type": "markdown",
      "metadata": {
        "id": "DKEfWRf98vAe"
      },
      "source": [
        "$$\n",
        "\\begin{align}\n",
        "\\hat{f}(\\omega) &= \\frac{1}{\\sqrt{2\\pi}}\\int_{-\\infty}^{+\\infty} f(t) e^{-i\\omega t} dt\\\\\n",
        "&= \\frac{1}{\\sqrt{2\\pi}}\\int_{-\\tau}^{+\\tau} a e^{-i\\omega t}dt\\\\\n",
        "&= \\frac{a}{-i\\omega\\sqrt{2 \\pi}} \\int_{-\\tau}^{+\\tau} e^{-i\\omega t}d(-i\\omega t)\\\\\n",
        "&= \\frac{a}{-i\\omega\\sqrt{2 \\pi}} \\left. e^{-i\\omega t} \\right|_{-\\tau}^{+\\tau}\\\\\n",
        "&= \\frac{a}{i\\omega\\sqrt{2 \\pi}}\\left[ e^{i\\omega t} - e^{-i\\omega t}\\right]\\\\\n",
        "&= \\sqrt{\\frac{2}{\\pi}} \\frac{a\\sin\\tau\\omega}{\\omega}.\n",
        "\\end{align}\n",
        "$$"
      ]
    },
    {
      "cell_type": "markdown",
      "metadata": {
        "id": "d9uhke1K8vAe"
      },
      "source": [
        "For low frequencies, when $\\omega$ is small compared to $1/\\tau$, the function is nearly constant. For high frequencies it falls in amplitude like $1/\\omega$, but is also modulated by the sine term. Here’s a graph:"
      ]
    },
    {
      "cell_type": "markdown",
      "metadata": {
        "id": "BraIdYQu8vAe"
      },
      "source": [
        "<div><img src=\"https://clark.physics.illinois.edu/246img/exoplanets12.png\" width=350 alt=\"confirmedExoplanets\"></img><br></div>"
      ]
    },
    {
      "cell_type": "markdown",
      "metadata": {
        "id": "z-iqTlxb8vAe"
      },
      "source": [
        "If instead we were to calculate the Fourier transform of a periodic function of time we would see a large peak at the frequency of the function.\n",
        "\n",
        "A very common application of Fourier transforms is to calculate the amplitude vs. frequency for a signal whose transport of energy is proportional to the square of the amplitude. In this circumstance we will have the power per unit frequency going like\n",
        "\n",
        "$$|\\hat{f}(\\omega)|^2 = \\hat{f}^*(\\omega)\\hat{f}(\\omega) = \\left( Re \\hat{f}(\\omega) \\right)^2 + \\left(Im \\hat{f}(\\omega)\\right)^2$$\n",
        "\n",
        "(An asterisk indicates taking the complex conjugate.)"
      ]
    },
    {
      "cell_type": "markdown",
      "metadata": {
        "id": "PjzVNmM28vAe"
      },
      "source": [
        "**Discrete Fourier Transform (DFT)**\n",
        "\n",
        "The Fourier transform discussed above can only be applied to functions that are well defined over a continuous range of times. But experimental data is often only available at discrete times, as is true for the Epsilon Reticuli data. Ground-based optical telescopes can only operate at night, in good weather!\n",
        "\n",
        "There are a number of techniques for extracting a frequency spectrum from a discrete data set. Some are appropriate for measurements separated by regular intervals, and some work for data sets in which measurements occur irregularly. The algorithms will tend to resemble the Fourier transform discussed above, but there will be subtle complications associated with the sampling rate and duration of the overall program of measurements.\n",
        "\n",
        "Let’s ignore these fine points for now and consider how to adapt the Fourier transform algorithm to sets of regularly spaced measurements. We’ll start with the solar velocity distributions you generated for **1a**.\n",
        "\n",
        "If we had somehow obtained a continuous function $v(t)$ for the sun’s velocity we would generate the Fourier transform this way:\n",
        "\n",
        "$$ \\hat{v}(\\omega) = \\frac{1}{\\sqrt{2\\pi} } \\int_{-\\infty}^{\\infty} v(t) e^{-i\\omega t} dt.$$\n",
        "\n",
        "If instead we had made discrete measurements at times $t_0,t_1,t_2,...$ each separated by $\\Delta t$ from the adjacent measurements we could approximate the integral as\n",
        "\n",
        "$$\\hat{v}(\\omega) = \\frac{1}{\\sqrt{2\\pi} } \\int_{-\\infty}^{\\infty} v(t) e^{-i\\omega t} dt \\approx \\frac{1}{\\sqrt{2\\pi} } \\sum_k \\left[ v(t_k) e^{-i\\omega t_k} \\Delta t \\right] $$\n",
        "\n",
        "Let’s see how well this works on the Jupiter/Venus data you generated above."
      ]
    },
    {
      "cell_type": "markdown",
      "metadata": {
        "id": "HQARdM8W8vAe"
      },
      "source": [
        "### c. Implementing a DFT"
      ]
    },
    {
      "cell_type": "markdown",
      "metadata": {
        "id": "qOjEII-v8vAe"
      },
      "source": [
        "🦉Modify your code from **1a** so that it generates solar radial velocity data for 100 years, at 1 day intervals. (A year is 365.25 days long.) Make sure that you’ve made Venus ten times more massive than its true value so that your calculations use 4868.5e22 kg.\n",
        "\n",
        "Once that is working, you’ll use the time and velocity arrays when you add code that will calculate the discrete Fourier transform as described above for 500 different frequencies ω. Here are the parameters you should use:\n",
        "\n",
        "```python\n",
        "# frequency upper, lowe limits in 1/year:\n",
        "f_max = 2.5\n",
        "f_min = 1 / 100.\n",
        "omega_max = 2 * np.pi * f_max\n",
        "omega_min = 2 * np.pi * f_min\n",
        "# number of omega values to run through\n",
        "number_omegas=500\n",
        "# now the values we will loop over..\n",
        "omega_array=np.linspace(omega_min,omega_max,number_omegas)\n",
        "```\n",
        "\n",
        "It is perfectly fine to use years as your unit of time, as long as ω has units of inverse years. Let’s say that your time and velocity arrays are named `tarray` (values are in years) and `varray` (values are in m/s). For each $\\omega$ value you can do the sum like this (take note of the use of 1j as the square root of -1):\n",
        "\n",
        "```python\n",
        "FT_integral = 0 + 0j\n",
        "for i in range(0, len(tarray)):\n",
        "    FT_integral += varray[i]*np.exp(-1j * omega * tarray[i])\n",
        "FT_integral = FT_integral / np.sqrt(2 * np.pi)\n",
        "```\n",
        "**Note:** List comprehensions can make a large speedup here! This code will be slow, but try and make it as fast as possible if you have time.\n",
        "\n",
        "\n",
        "🦉Calculate the square of the magnitude of `FT_integral` at each ω value, then graph that as a function of $\\omega$.  You may want to use a logarithmic y scale. You should see two clear peaks, corresponding to the orbital frequencies of Jupiter and Venus.\n",
        "\n",
        "Here is my plots. Note that I am plotting frequency $f$, and not $\\omega = 2\\pi f$ along the horizontal axis."
      ]
    },
    {
      "cell_type": "markdown",
      "metadata": {
        "id": "B9wagWvm8vAe"
      },
      "source": [
        "<div><img src=\"https://clark.physics.illinois.edu/246img/exoplanets13.png\" width=600 alt=\"confirmedExoplanets\"></img><br></div>"
      ]
    },
    {
      "cell_type": "markdown",
      "metadata": {
        "id": "R6D_48-G8vAe"
      },
      "source": [
        "<div><img src=\"https://clark.physics.illinois.edu/246img/AnsStart.svg\" width=200 align=left alt=\"Answer (start)\"></img><br></div>"
      ]
    },
    {
      "cell_type": "code",
      "execution_count": 19,
      "metadata": {
        "colab": {
          "base_uri": "https://localhost:8080/",
          "height": 447
        },
        "id": "7XK14bS18vAe",
        "outputId": "35064a7a-a31d-482c-8ab3-594010509248"
      },
      "outputs": [
        {
          "output_type": "execute_result",
          "data": {
            "text/plain": [
              "[<matplotlib.lines.Line2D at 0x7aef238fad50>]"
            ]
          },
          "metadata": {},
          "execution_count": 19
        },
        {
          "output_type": "display_data",
          "data": {
            "text/plain": [
              "<Figure size 640x480 with 1 Axes>"
            ],
            "image/png": "[encoded data removed]"
          },
          "metadata": {}
        }
      ],
      "source": [
        "### ANSWER HERE\n",
        "\n",
        "mass = np.array([SolarSystemParameters[\"SunMass\"],SolarSystemParameters[\"JupiterMass\"], SolarSystemParameters[\"VenusMass\"]*10])\n",
        "\n",
        "vs = []\n",
        "ts = []\n",
        "\n",
        "for t in np.arange(0, 24*3600*100*365.25, 24*3600):\n",
        "  vx, vy = get_planet_vxvy_barycentric(mass,t)\n",
        "  vs.append(vx[0])\n",
        "  ts.append(t/(24*3600*365.25))\n",
        "\n",
        "# frequency upper, lower limits in 1/year:\n",
        "f_max = 2.5\n",
        "f_min = 1 / 100.\n",
        "omega_max = 2 * np.pi * f_max\n",
        "omega_min = 2 * np.pi * f_min\n",
        "# number of omega values to run through\n",
        "number_omegas=500\n",
        "# now the values we will loop over..\n",
        "omega_array=np.linspace(omega_min,omega_max,number_omegas)\n",
        "\n",
        "FT_array = []\n",
        "freq = []\n",
        "for omega in omega_array:\n",
        "  FT_integral = 0 + 0j\n",
        "  for i in range(0, len(ts)):\n",
        "      FT_integral += vs[i]*np.exp(-1j * omega * ts[i])\n",
        "  FT_integral = FT_integral / np.sqrt(2 * np.pi)\n",
        "  FT_array.append(np.abs(FT_integral)**2)\n",
        "  freq.append(omega / (2*np.pi))\n",
        "plt.yscale('log')\n",
        "plt.plot(freq, FT_array)\n",
        "\n",
        "\n"
      ]
    },
    {
      "cell_type": "markdown",
      "metadata": {
        "id": "tLJ4P2Wr8vAe"
      },
      "source": [
        "<div><img src=\"https://clark.physics.illinois.edu/246img/AnsEnd.svg\" width=200 align=left alt=\"Answer (end)\"></img><br></div>"
      ]
    },
    {
      "cell_type": "markdown",
      "metadata": {
        "id": "uUsNGTRB8vAe"
      },
      "source": [
        "### d. Calculating projected mass"
      ]
    },
    {
      "cell_type": "markdown",
      "metadata": {
        "id": "6IweDwjD8vAe"
      },
      "source": [
        "🦉Pick out the frequency that corresponds to the lower frequency peak and convert it to the orbital period. (In my plot the left peak is at .0848497/year, corresponding to 11.7855 years.) By combining that with the amplitude of the solar velocity, the known mass of the sun ($1.989 \\times 10^{30}$ kg), and other constants, use the formula for projected mass to estimate (a lower limit on) Jupiter’s mass:\n",
        "\n",
        "$$m_\\textrm{projected} = \\left( \\frac{m^2_\\textrm{star}P}{ 2\\pi G }  \\right)^{1/3} v_r$$\n",
        "\n",
        "How well did you do? Compare your value to the actual Jupiter mass of $1.898 \\times 10^{27}$ kg.  My code yields $2.0220276 × 10^{27}$ kg."
      ]
    },
    {
      "cell_type": "markdown",
      "metadata": {
        "id": "DS9CbweX8vAe"
      },
      "source": [
        "<div><img src=\"https://clark.physics.illinois.edu/246img/AnsStart.svg\" width=200 align=left alt=\"Answer (start)\"></img><br></div>"
      ]
    },
    {
      "cell_type": "code",
      "execution_count": 75,
      "metadata": {
        "colab": {
          "base_uri": "https://localhost:8080/"
        },
        "id": "JGxlGc7e8vAe",
        "outputId": "9abdf9d3-296a-49a3-a1c2-2ee6549b30ba"
      },
      "outputs": [
        {
          "output_type": "stream",
          "name": "stdout",
          "text": [
            "Frequency Peak: 0.08484969939879759/year\n",
            "Orbital Period: 11.785545583372697 years\n",
            "Projected Mass: 2.0231426473681056e+27 kg\n",
            "6.5933955409960845% error\n"
          ]
        }
      ],
      "source": [
        "### ANSWER HERE\n",
        "freq_peak = freq[np.argmax(FT_array)]\n",
        "p = 1 / freq_peak\n",
        "print(f\"Frequency Peak: {freq_peak}/year\")\n",
        "print(f\"Orbital Period: {p} years\")\n",
        "\n",
        "v_r = max(v_amp)\n",
        "\n",
        "m_proj = v_r*(((p*(365.25*24*3600))*(SolarSystemParameters['SunMass'])**2)/(2*np.pi*SolarSystemParameters['G']))**(1/3)\n",
        "print(f\"Projected Mass: {m_proj} kg\")\n",
        "\n",
        "print(f\"{100*(m_proj-1.898e27)/(1.898e27)}% error\")"
      ]
    },
    {
      "cell_type": "markdown",
      "metadata": {
        "id": "PDQTKS8e8vAe"
      },
      "source": [
        "<div><img src=\"https://clark.physics.illinois.edu/246img/AnsEnd.svg\" width=200 align=left alt=\"Answer (end)\"></img><br></div>"
      ]
    },
    {
      "cell_type": "markdown",
      "metadata": {
        "id": "P_MdVJWW8vAf"
      },
      "source": [
        "**Q:** How well did you do?"
      ]
    },
    {
      "cell_type": "markdown",
      "metadata": {
        "id": "HsuhnbhE8vAf"
      },
      "source": [
        "<div><img src=\"https://clark.physics.illinois.edu/246img/AnsStart.svg\" width=200 align=left alt=\"Answer (start)\"></img><br></div>"
      ]
    },
    {
      "cell_type": "markdown",
      "metadata": {
        "id": "gw_Z4XZH8vAf"
      },
      "source": [
        "A: ~6.6% error"
      ]
    },
    {
      "cell_type": "markdown",
      "metadata": {
        "id": "WtDBm0be8vAf"
      },
      "source": [
        "<div><img src=\"https://clark.physics.illinois.edu/246img/AnsEnd.svg\" width=200 align=left alt=\"Answer (end)\"></img><br></div>"
      ]
    },
    {
      "cell_type": "markdown",
      "metadata": {
        "id": "MCt6NA6o8vAf"
      },
      "source": [
        "## Exercise 2 - Epsilon Reticuli Data"
      ]
    },
    {
      "cell_type": "markdown",
      "metadata": {
        "id": "taJeqofD8vAf"
      },
      "source": [
        "* **List of collaborators:**\n",
        "\n",
        "* **References you used in developing your code:**"
      ]
    },
    {
      "cell_type": "markdown",
      "metadata": {
        "id": "nK8sKFU38vAf"
      },
      "source": [
        "### a. Obtain the Data"
      ]
    },
    {
      "cell_type": "markdown",
      "metadata": {
        "id": "QfF0Dube8vAf"
      },
      "source": [
        "Armed with an understanding of our model for radial velocity measurements, let’s take a look at real data from NASA.\n",
        "\n",
        "Epsilon Reticuli is a double star 59 light years away in the constellation Reticulum.[<sup>17</sup>](#fn17) The larger of the two stars is an orange sub-giant near the end of its life (it is on the way to becoming a red giant). Its smaller companion is a white dwarf, at a distance of 240 AU from the primary. (An AU is the radius of the earth’s orbit). Based on the spectral type (color and brightness) and our understanding of stellar evolution, astronomers estimate the mass of the primary to be ~1.2 $M_\\odot$. NASA refers to the system using its “Henry Draper Catalogue”[<sup>18</sup>](#fn18) listing, HD 27442.\n",
        "\n",
        "In 2001 Butler et al. reported the discovery of HD 27442 b, an exoplanet orbiting the orange star at a distance of 1.2 AU. (As you might have noticed, astronomers name a star’s planets by following the name of the star with the letter b, c, d, etc. The host star is supposed to be the \"a.\" ) The planet is at least 1.5 times as massive as Jupiter, with an orbital period of 428 days.\n",
        "\n",
        "🦉Download the file [UID_0019921_RVC_002.tbl.txt](https://courses.physics.illinois.edu/phys298owl/fa2019/code/UID_0019921_RVC_002.tbl.txt) from the code repository using"
      ]
    },
    {
      "cell_type": "code",
      "execution_count": null,
      "metadata": {
        "id": "3VUCEjZA8vAf",
        "tags": [
          "hide-output"
        ]
      },
      "outputs": [],
      "source": [
        "!wget https://courses.physics.illinois.edu/phys246/fa2020/code/UID_0019921_RVC_002.tbl.txt"
      ]
    },
    {
      "cell_type": "markdown",
      "metadata": {
        "id": "MEuLxHVN8vAf"
      },
      "source": [
        "The file contains data from a NASA exoplanet archive[<sup>19</sup>](#fn19)  that are fully \"reduced,\" meaning that corrections for the motions of the telescope, earth, sun, and solar system around the galactic center have been removed. Since the file is plain text, you can open it and read it with any editor, including Jupyter's. A header listing information about the measurements comprises the first 22 lines of the file.\n",
        "\n",
        "The header is followed by tabular data of the measured radial velocity spanning a period of about eight years. The three columns in each line of data hold the Julian date, the radial velocity, and the measurement uncertainty in the velocity. The Julian date is the number of days since noon (universal time) on January 1, 4713 BC. (There is a good converter on the Naval Observatory’s web site: see http://aa.usno.navy.mil/data/docs/JulianDate.php.)\n",
        "\n",
        "The first line of data is\n",
        "```\n",
        "2450831.081551    -33.9     2.1\n",
        "```\n",
        "which corresponds to January 17, 1998, 13:57:26.0 UT.\n",
        "\n",
        "We can use various functions in numpy like loadtxt or genfromtxt to create arrays from tabular data. In this exercise, let's try genfromtxt, which converts rows and columns of elements into strings, then converts each string into numbers.[<sup>20</sup>](#fn20)  Since you’ll want to skip the header, please use the “skip_header” option. Here is how this works:\n",
        "\n",
        "```python\n",
        "# import data from file UID_0019921_RVC_002.tbl.txt\n",
        "data = np.genfromtxt(‘UID_0019921_RVC_002.tbl.txt’, skip_header=22)\n",
        "```\n",
        "\n",
        "You can load an array of the column of data this way:\n",
        "```python\n",
        "time_array = data[:,0]\n",
        "varray=data[:,1]\n",
        "sigma_array=data[:,2]\n",
        "```\n",
        "\n",
        "🦉Please make a graph of the radial velocity as a function of year, setting the time of the first bin to zero. I suggest you set the plot’s aspect ratio via a set_aspect command so that the sinusoidal variations in velocity are easy to see:\n",
        "```python\n",
        "fig = plt.figure()\n",
        "ax = fig.gca()\n",
        "ax.set_aspect(0.0125)\n",
        "```\n",
        "\n",
        "Here’s what I get. You can see the periodic nature of the signal."
      ]
    },
    {
      "cell_type": "markdown",
      "metadata": {
        "id": "n5VnNIp48vAf"
      },
      "source": [
        "<div><img src=\"https://clark.physics.illinois.edu/246img/exoplanets15.png\" width=600 alt=\"confirmedExoplanets\"></img><br></div>"
      ]
    },
    {
      "cell_type": "markdown",
      "metadata": {
        "id": "DjkbxLn58vAf"
      },
      "source": [
        "You can get data using `data = np.genfromtxt('UID_0019921_RVC_002.tbl.txt', skip_header=22)\n",
        "`.  \n",
        "\n",
        "<div><img src=\"https://clark.physics.illinois.edu/246img/AnsStart.svg\" width=200 align=left alt=\"Answer (start)\"></img><br></div>"
      ]
    },
    {
      "cell_type": "code",
      "execution_count": null,
      "metadata": {
        "id": "wOES0l9A8vAf"
      },
      "outputs": [],
      "source": [
        "#### ANSWER HERE"
      ]
    },
    {
      "cell_type": "markdown",
      "metadata": {
        "id": "BluCQ51N8vAf"
      },
      "source": [
        "<div><img src=\"https://clark.physics.illinois.edu/246img/AnsEnd.svg\" width=200 align=left alt=\"Answer (end)\"></img><br></div>"
      ]
    },
    {
      "cell_type": "markdown",
      "metadata": {
        "id": "1J2nJhvk8vAf"
      },
      "source": [
        "### b. Estimate the mass of HD 27442 b"
      ]
    },
    {
      "cell_type": "markdown",
      "metadata": {
        "id": "ooyka7d08vAf"
      },
      "source": [
        "The stellar mass of HD 27442 is estimated to be 1.23 $M_\\odot$  from spectral type identification. Modify your programs from above to feed the HD 27442 data into your discrete Fourier transform algorithm. Make a graph of the square of the amplitude vs. frequency; I suggest you choose the minimum and maximum frequencies (in 1/years) to be 0.2 and 4. Try evaluating the transform for 1,000 frequencies in that range. To determine the amplitude of the velocity curve use the maximum velocity value; we’ll explore this more later.\n",
        "\n",
        "Use your results for period and velocity amplitude to estimate the (lower limit on the) mass of HD 27442 b. For your information, here are my results and plots."
      ]
    },
    {
      "cell_type": "markdown",
      "metadata": {
        "id": "ydJ1cc_n8vAf"
      },
      "source": [
        "```\n",
        "Epsilon Reticuli b period (years; actual value is 1.17) =  1.18113029085\n",
        "projected Epsilon Reticuli b mass (actual is 2.961e+27) =  3.27159127374e+27\n",
        " elapsed running time =  0.6881752014160156  seconds\n",
        " ```"
      ]
    },
    {
      "cell_type": "markdown",
      "metadata": {
        "id": "SqBx2G1M8vAf"
      },
      "source": [
        "<div><img src=\"https://clark.physics.illinois.edu/246img/exoplanets16.png\" width=400 alt=\"confirmedExoplanets\"></img><br></div>"
      ]
    },
    {
      "cell_type": "markdown",
      "metadata": {
        "id": "jHxp4VN88vAf"
      },
      "source": [
        "<div><img src=\"https://clark.physics.illinois.edu/246img/AnsStart.svg\" width=200 align=left alt=\"Answer (start)\"></img><br></div>"
      ]
    },
    {
      "cell_type": "code",
      "execution_count": null,
      "metadata": {
        "id": "cJZPDFBo8vAf"
      },
      "outputs": [],
      "source": [
        "### ANSWER HERE"
      ]
    },
    {
      "cell_type": "markdown",
      "metadata": {
        "id": "6Ug-lG8E8vAg"
      },
      "source": [
        "<div><img src=\"https://clark.physics.illinois.edu/246img/AnsEnd.svg\" width=200 align=left alt=\"Answer (end)\"></img><br></div>"
      ]
    },
    {
      "cell_type": "markdown",
      "metadata": {
        "id": "-FnpXh458vAg"
      },
      "source": [
        "## Exercise 3 - Finding the best velocity (extra credit - 10 points)"
      ]
    },
    {
      "cell_type": "markdown",
      "metadata": {
        "id": "FOxLHhoz8vAg"
      },
      "source": [
        "* **List of collaborators:**\n",
        "\n",
        "* **References you used in developing your code:**"
      ]
    },
    {
      "cell_type": "markdown",
      "metadata": {
        "id": "MRnLfK8T8vAg"
      },
      "source": [
        "### 0. Background - $\\chi^2$"
      ]
    },
    {
      "cell_type": "markdown",
      "metadata": {
        "id": "DdwjzZQ88vAg"
      },
      "source": [
        "We define the chi-squared as\n",
        "\n",
        "$$ \\chi^2 = \\sum_{i} \\frac{\\left(N_i - N_{predicted}\\right)^2}{\\sigma_i^2} $$\n",
        "\n",
        "$N_i$ is the observed value, $N_{predicted}$ is the predicted value with a particular choice of parameters (for example, a given $v_r$), and $\\sigma_i^2$ is the square of the statistical uncertainty (usually taken to be standard deviation or RMS width) associated with the observed value.  \n",
        "\n",
        "It is a very sensible measure to use in determining how well your parameters match the underlying reality governing the system you are studying: a good parameter set will tend to cause the predicted and observed values to agree to within about one standard deviation. It will be unusual for values to deviate from the expected value by a lot of sigmas, unless your parameters aren’t very good. And it will be unusual for the predicted and observed contents of a large number of bins to agree better than the statistical fluctuations ought to allow. As a result, the value of chi-squared will tend to be about the same as the number of bins in your histogram.   \n",
        "\n",
        "**What do we mean by \"best?\"**  \n",
        "\n",
        "Imagine that we determine some physical parameter— a star's mass, for example—by performing an experiment and analyzing the resulting data. If we were to perform the same experiment many times we’d expect to find slightly different values of the star mass in each of our experiments due to statistical fluctuations in our data. If we plotted the values so obtained we’d probably find that they’d lie on some sort of Gaussian distribution.\n",
        "There are subtleties in defining what we mean by \"best.\" Is it best to use an analysis method that minimizes the width of our multiple-experiment distribution of results? Is it best to use a method that makes our single-experiment determination most likely to agree perfectly (though accidentally, due to fluctuations) with the underlying true value of the star mass? Or is some other measure appropriate?  \n",
        "\n",
        "Perhaps an easy example of the ambiguities in the word \"best\" are more clear when considering a long-term investment strategy for, say, the college expenses of a family’s children. Naively, one might favor a strategy that, on average, maximizes the ultimate return on investment. But higher-return investments also incur more risk of loss of principal, so a sensible strategy will include consideration of both risk and return, as well as the time at which the funds must be available to pay for college.   \n",
        "\n",
        "We tend to opt for minimizing the width of a hypothetical multi-experiment distribution. In most cases this is obtained by using a chi-squared test for evaluating how well our parameters are working."
      ]
    },
    {
      "cell_type": "markdown",
      "metadata": {
        "id": "tMzkTCGR8vAg"
      },
      "source": [
        "### a. Get $\\chi^2$ working"
      ]
    },
    {
      "cell_type": "markdown",
      "metadata": {
        "id": "r8IrbbQ-8vAg"
      },
      "source": [
        "Recall above that we used real exoplanet data and extracted the largest Fourier component $\\omega$. In doing so, we essentially set the velocity curve to be $v(t) = v_r \\cdot\\sin(\\omega t+\\phi)$  where we chose $\\omega$ to be the largest Fourier component, and  $v_r$ to be the maximum of the measured velocities. But what if the telescope wasn’t able to measure the actual maximum velocity? Not only that, how do we know that the points we pick are part of the Fourier component we chose?  \n",
        "\n",
        "<div><img src=\"https://clark.physics.illinois.edu/246img/exoplanets17.png\" width=600 alt=\"confirmedExoplanets\"></img><br></div>"
      ]
    },
    {
      "cell_type": "markdown",
      "metadata": {
        "id": "TPBKdVPY8vAg"
      },
      "source": [
        "🦉Please modify your original code to get the error $\\sigma_i$ on the velocity measurements, which is the 3rd column of the data file. Guess a value of $v_r$ and make the above plot, then calulate $\\chi^2$. Strictly speaking we should search for $\\phi$ but let’s just say it is $\\phi=5.5$ for now.  \n",
        "I find:\n",
        "```\n",
        "starting time is  Tue Jun 26 12:03:04 2018\n",
        "chisq =  1075.4055336\n",
        "ending time is  Tue Jun 26 12:03:04 2018\n",
        "```"
      ]
    },
    {
      "cell_type": "markdown",
      "metadata": {
        "id": "4qbHqvKV8vAg"
      },
      "source": [
        "<div><img src=\"https://clark.physics.illinois.edu/246img/AnsStart.svg\" width=200 align=left alt=\"Answer (start)\"></img><br></div>"
      ]
    },
    {
      "cell_type": "code",
      "execution_count": null,
      "metadata": {
        "id": "XVcbNR3f8vAg"
      },
      "outputs": [],
      "source": [
        "### ANSWER HERE"
      ]
    },
    {
      "cell_type": "markdown",
      "metadata": {
        "id": "dPJFsnYb8vAg"
      },
      "source": [
        "<div><img src=\"https://clark.physics.illinois.edu/246img/AnsEnd.svg\" width=200 align=left alt=\"Answer (end)\"></img><br></div>"
      ]
    },
    {
      "cell_type": "markdown",
      "metadata": {
        "id": "vliEH9L88vAg"
      },
      "source": [
        "In general, a $\\chi^2$ value of $N$, here which is 55, is what would constitute a good fit (why?). Instead we have a value almost 20 times that! We’ll try to get a better answer now."
      ]
    },
    {
      "cell_type": "markdown",
      "metadata": {
        "id": "TR1M601v8vAg"
      },
      "source": [
        "### b. Find a better fit - Manual"
      ]
    },
    {
      "cell_type": "markdown",
      "metadata": {
        "id": "qCPI0FZK8vAg"
      },
      "source": [
        "In order to find out what the actual magnitude is, we’ll look at a best fit to determine the best $v_r$. First, determine a range of parameters $v_r$ and $\\phi$ to look through. First try a range of $\\pm 10$ from your original guess at $v_r$ with 1000 different velocities and a grid of 0 to 2π of length 200 for $\\phi$.\n",
        "After you find the best $v_r$ and $\\phi$ for the best $\\chi^2$, calculate the new projected mass. I find that a smaller $v_r$ fits the data better(!)"
      ]
    },
    {
      "cell_type": "markdown",
      "metadata": {
        "id": "jyWVOCe48vAg"
      },
      "source": [
        "<div><img src=\"https://clark.physics.illinois.edu/246img/AnsStart.svg\" width=200 align=left alt=\"Answer (start)\"></img><br></div>"
      ]
    },
    {
      "cell_type": "code",
      "execution_count": null,
      "metadata": {
        "id": "Lcm2wkan8vAg"
      },
      "outputs": [],
      "source": [
        "### ANSWER HERE"
      ]
    },
    {
      "cell_type": "markdown",
      "metadata": {
        "id": "GSBBRTj_8vAg"
      },
      "source": [
        "<div><img src=\"https://clark.physics.illinois.edu/246img/AnsEnd.svg\" width=200 align=left alt=\"Answer (end)\"></img><br></div>"
      ]
    },
    {
      "cell_type": "markdown",
      "metadata": {
        "id": "DTCuTAKA8vAg"
      },
      "source": [
        "### c. Find a better fit - `scipy`"
      ]
    },
    {
      "cell_type": "markdown",
      "metadata": {
        "id": "MNw66uKJ8vAg"
      },
      "source": [
        "While searching through a range is (relatively) easy to code, there are algorithms to smartly search for the best answer. Rather than spend a lot of time (and maybe pain) writing our own, `scipy` comes with a prewritten one. To use it, first at the top of your file add\n",
        "```python\n",
        "from scipy import optimize\n",
        "```\n",
        "then define a function that takes 4 parameters `(params,time_array,rv_array, error_array)` and returns the vector with components $v_i-v(t_i)/\\sigma_i$. Let’s call this function `errorfunc`. Parameters will be a list of [`A`,`phi`] so that we’re trying to fit something like\n",
        "```python\n",
        "A = params[0]\n",
        "phi= params[1]\n",
        "A*np.sin*(omega* time_array + phi)\n",
        "```\n",
        "\n",
        "*optional:* it's quite useful to define a lambda function to do this, for example:\n",
        "```python\n",
        "errorfunc = lambda params,t,data,sigmas : (params[0]*np.sin(omega*t+params[1])-data)/sigmas\n",
        "```\n",
        "\n",
        "To use the `scipy` routine, we also need a list of starting parameters, I suggest our initial guess:\n",
        "```python\n",
        "parameter_guess = [40.4,5.5]\n",
        "```\n",
        "then we just have to call the routine. So you can do something like\n",
        "```python\n",
        "(A_best,phi_best),itWorked =\n",
        "optimize.leastsq(errorfunc, parameter_guess,args=(time_array,rv_array,sigma_array))\n",
        "```\n",
        "Notice that my function errfunc must be defined by\n",
        "```python\n",
        "def errfunc(params,time_array,rv_array,sigma_array):\n",
        "```\n",
        "but you are free to change it, as long as it works. 🦉Determine the new star velocity based on the `scipy` best fit and see how it changes with the projected mass"
      ]
    },
    {
      "cell_type": "markdown",
      "metadata": {
        "id": "YqTO_LfL8vAg"
      },
      "source": [
        "<div><img src=\"https://clark.physics.illinois.edu/246img/AnsStart.svg\" width=200 align=left alt=\"Answer (start)\"></img><br></div>"
      ]
    },
    {
      "cell_type": "code",
      "execution_count": null,
      "metadata": {
        "id": "XapuztSI8vAg"
      },
      "outputs": [],
      "source": [
        "### ANSWER HERE"
      ]
    },
    {
      "cell_type": "markdown",
      "metadata": {
        "id": "NyLLpDJM8vAg"
      },
      "source": [
        "<div><img src=\"https://clark.physics.illinois.edu/246img/AnsEnd.svg\" width=200 align=left alt=\"Answer (end)\"></img><br></div>"
      ]
    },
    {
      "cell_type": "markdown",
      "metadata": {
        "id": "e3HhWJhN8vAg"
      },
      "source": [
        "<span id=“fn1”><sup>1</sup>Wolszczan, A.; Frail, D. A. (1992). \"A planetary system around the millisecond pulsar PSR1257+12\". Nature. 355(6356): 145–147. </span>\n",
        "\n",
        "<span id=“fn2”><sup>2</sup>3,572 as of December 21, 2017: https://exoplanetarchive.ipac.caltech.edu/.</span>\n",
        "\n",
        "<span id=“fn3”><sup>3</sup>Original letter from Isaac Newton to Richard Bentley, dated 10 December 1692, The Newton project, 189.R.4.47, ff. 4A-5, Trinity College Library, Cambridge, UK</span>\n",
        "\n",
        "<span id=“fn4”><sup>4</sup> https://en.wikipedia.org/wiki/Pierre-Simon_Laplace. The solar system is actually a chaotic system, capable of ejecting a planet now and then, so it is inaccurate to say that it is stable.\n",
        "    \n",
        "<span id=“fn5”><sup>5</sup> Mayor, Michael; Queloz, Didier (1995). \"A Jupiter-mass companion to a solar-type star\". Nature. 378 (6555): 355– 359.</span>\n",
        "\n",
        "<span id=“fn6”><sup>6</sup>  https://en.wikipedia.org/wiki/Exoplanet</span>\n",
        "\n",
        "<span id=“fn7”><sup>7</sup> One parsec is approximately 3.26 light years. It is the distance at which the mean radius of the earth’s orbit subtends one second of arc, or 4.848 microradians. The distance to Proxima Centauri, the closest star to the sun, is 4.243 light years, or 1.3 parsecs.</span>\n",
        "\n",
        "<span id=“fn8”><sup>8</sup> The diameter of our Milky Way is around 50 k parsecs, and its thickness is around 1 k parsecs. As a result, Doppler spectroscopy can only find planets in our home galaxy. </span>\n",
        "\n",
        "<span id=“fn9”><sup>9</sup>  Combining observations from 1 & 2, we can estimate the planet’s density, and learn whether it's more likely to be a gas giant or a rocky, possibly terrestrial planet. </span>\n",
        "\n",
        "<span id=\"fn10\"><sup>10</sup> https://en.wikipedia.org/wiki/HR_8799 </span>\n",
        "\n",
        "<span id=\"fn11\"><sup>11</sup>For example, https://en.wikipedia.org/wiki/Methods_of_detecting_exoplanets; Udry S, Santos NC., 2007. Astron. Astrophys. 45:397-439; Winn JN., Fabrycky DC., 2015. Astron. Astrophys. 53:409-447. In February 2017, from Spitzer Space Telescope observation, NASA announced the discovery of the first known system of seven planets orbiting around a single star TRAPPIST-1. All are Earth-sized, with three are located in habitable zone. The system is seen nearly edge-on, and from the derived planetary orbital parameters, six have nearly circular orbits with eccentricity < 0.1. Further, the orbits are almost co-planar. In the near future Spitzer, Hubble, Kepler, and the future James Webb Space Telescope will perform follow-up observations, hoping to determine their atmospheric composition (and therefore habitability). More details can be seen in Nature: Gillon, M., Triaud, A. H. M. J., Demory, B.-O., et al. 2017, Nature, 542, 456.</span>\n",
        "    \n",
        "<span id=\"fn12\"><sup>12</sup>https://image.gsfc.nasa.gov/poetry/ask/a11354.html  </span>\n",
        "\n",
        "\n",
        "<span id=\"fn13\"><sup>13</sup>https://en.wikipedia.org/wiki/File:Hydrogen_spectrum.svg, https://commons.wikimedia.org/wiki/File:Solar_Spectrum.png, This figure was prepared by Robert A. Rohde as part of the Global Warming Art project.</span>\n",
        "\n",
        "\n",
        "<span id=\"fn14\"><sup>14</sup>http://www.astronomynotes.com/light/s5.htm. The discussed spectral line is a fine-structure 2P – 3D, cited in Kramida 2010, Atomic Data and Nuclear Data Tables.</span>\n",
        "\n",
        "<span id =\"fn15\"><sup>15</sup> https://exoplanets.nasa.gov/exep/newslettersarchive-htmlfiles/2011July.html</span>\n",
        "\n",
        "<span id=\"fn16\"><sup>16</sup>Arkushanangarushashutu is about 130 lightyears away. The name is the longest of all star names, derived from ancient Babylonian, and meaning “the southeast star in the Crab.” See https://en.wikipedia.org/wiki/Delta_Cancri.</span>\n",
        "\n",
        "<span id=\"fn17\"><sup>17</sup>https://en.wikipedia.org/wiki/Epsilon_Reticuli</span>\n",
        "\n",
        "<span id=\"fn18\"><sup>18</sup>https://en.wikipedia.org/wiki/Henry_Draper_Catalogue</span>\n",
        "\n",
        "\n",
        "<span id=\"fn19\"><sup>19</sup>http://exoplanetarchive.ipac.caltech.edu/index.html</span>\n",
        "\n",
        "\n",
        "<span id=\"fn20\"><sup>20</sup>https://docs.scipy.org/doc/numpy/user/basics.io.genfromtxt.html</span>"
      ]
    },
    {
      "cell_type": "markdown",
      "metadata": {
        "id": "zIPSQKZb8vAh"
      },
      "source": [
        "---\n",
        "\n",
        "\n",
        "**Acknowledgements:**\n",
        "* Overall assignment + Ex. 1 and 2 Monica Huang and George Gollin (original);\n",
        "* Ex. 3 Ryan Levy and Bryan Clark (original)\n",
        "*  Very minor modifications otherwise by Bryan Clark\n",
        "\n",
        "© Copyright 2021\n",
        "\n",
        "---"
      ]
    },
    {
      "cell_type": "code",
      "execution_count": null,
      "metadata": {
        "id": "hh7zCKNF8vAh"
      },
      "outputs": [],
      "source": []
    }
  ],
  "metadata": {
    "colab": {
      "provenance": []
    },
    "jupytext": {
      "formats": "ipynb,md:myst"
    },
    "kernelspec": {
      "display_name": "Python 3 (ipykernel)",
      "language": "python",
      "name": "python3"
    },
    "language_info": {
      "codemirror_mode": {
        "name": "ipython",
        "version": 3
      },
      "file_extension": ".py",
      "mimetype": "text/x-python",
      "name": "python",
      "nbconvert_exporter": "python",
      "pygments_lexer": "ipython3",
      "version": "3.8.16"
    },
    "varInspector": {
      "cols": {
        "lenName": 16,
        "lenType": 16,
        "lenVar": 40
      },
      "kernels_config": {
        "python": {
          "delete_cmd_postfix": "",
          "delete_cmd_prefix": "del ",
          "library": "var_list.py",
          "varRefreshCmd": "print(var_dic_list())"
        },
        "r": {
          "delete_cmd_postfix": ") ",
          "delete_cmd_prefix": "rm(",
          "library": "var_list.r",
          "varRefreshCmd": "cat(var_dic_list()) "
        }
      },
      "types_to_exclude": [
        "module",
        "function",
        "builtin_function_or_method",
        "instance",
        "_Feature"
      ],
      "window_display": false
    }
  },
  "nbformat": 4,
  "nbformat_minor": 0
}